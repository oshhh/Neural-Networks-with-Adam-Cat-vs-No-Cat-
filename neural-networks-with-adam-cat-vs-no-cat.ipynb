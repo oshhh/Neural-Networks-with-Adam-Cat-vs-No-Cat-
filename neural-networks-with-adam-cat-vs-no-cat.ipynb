{
 "cells": [
  {
   "cell_type": "code",
   "execution_count": 1,
   "metadata": {},
   "outputs": [],
   "source": [
    "import numpy as np\n",
    "import matplotlib.pyplot as plt\n",
    "from sklearn.model_selection import train_test_split\n",
    "import pandas as pd\n",
    "from sklearn.linear_model import LogisticRegression\n",
    "import h5py\n",
    "import sklearn.metrics\n",
    "\n",
    "%matplotlib inline"
   ]
  },
  {
   "cell_type": "markdown",
   "metadata": {},
   "source": [
    "**Coding out the neural network and associated functions:**"
   ]
  },
  {
   "cell_type": "code",
   "execution_count": 2,
   "metadata": {
    "colab": {
     "base_uri": "https://localhost:8080/",
     "height": 269
    },
    "colab_type": "code",
    "id": "L7CU3Fr7egT6",
    "outputId": "9ed2dcaf-b35b-4dd6-f3f7-3a48899a699b"
   },
   "outputs": [],
   "source": [
    "# Returns sigmoid of a numpy array\n",
    "def sigmoid(x):\n",
    "    return 1/ (1 + np.exp(-x))\n",
    "\n",
    "# Returns the derivative of sigmoid of the array wrt an array\n",
    "def d_sigmoid(x):\n",
    "    return sigmoid(x) * (1 - sigmoid(x))\n",
    "\n",
    "# Returns tanh of a numpy array\n",
    "def tanh(x):\n",
    "    return (np.exp(x) - np.exp(-x))/(np.exp(x) + np.exp(-x))\n",
    "\n",
    "# Returns the derivative of tanh of the array wrt an array\n",
    "def d_tanh(x):\n",
    "    return 1 - np.power(tanh(x), 2)\n",
    "\n",
    "def relu(x):\n",
    "    return np.maximum(0, x)\n",
    "\n",
    "def d_relu(x):\n",
    "    y = np.array(x, copy=True) \n",
    "    y[x <= 0] = 0\n",
    "    y[x > 0] = 1\n",
    "\n",
    "    return y\n",
    "\n",
    "# Cost function J:\n",
    "def J(neural_network, A, Y, lambd):\n",
    "    W = neural_network['W']\n",
    "    m = Y.shape[1]\n",
    "    total = 0\n",
    "    for curr in range(1, L + 1):\n",
    "        total += np.linalg.norm(W[curr])\n",
    "    return -1 * ((Y @ np.log(A).T)[0][0] + ((1 - Y) @ np.log(1 - A).T)[0][0] ) / A.shape[1] + lambd/(2*m) * total\n",
    "\n",
    "# Initialise the parameters and variables of the neural network:\n",
    "def init_layers(neural_network, X):\n",
    "    np.random.seed(1) \n",
    "    A = {0: X}\n",
    "    Z = {}\n",
    "    V_dw = {}\n",
    "    S_dw = {}\n",
    "    V_db = {}\n",
    "    S_db = {}\n",
    "    m = X.shape[1]\n",
    "    \n",
    "    if neural_network['W'] == None:\n",
    "        W = {}\n",
    "    else:\n",
    "        W = neural_network['W']\n",
    "    \n",
    "    if neural_network['B'] == None:\n",
    "        B = {}\n",
    "    else:\n",
    "        B = neural_network['B']\n",
    "    \n",
    "    for curr in range(1, L + 1):\n",
    "        if 'W' not in neural_network or neural_network['W'] == None:\n",
    "            W[curr] = np.random.randn(n[curr], n[curr - 1]) * np.sqrt(1 / n[curr - 1])\n",
    "        if 'B' not in neural_network or neural_network['B'] == None:\n",
    "            B[curr] = np.zeros((n[curr], 1))\n",
    "        Z[curr] = np.zeros((n[curr], m))\n",
    "        A[curr] = np.zeros((n[curr], m))\n",
    "        V_dw[curr] = np.zeros((n[curr], n[curr - 1]))\n",
    "        S_dw[curr] = np.zeros((n[curr], n[curr - 1]))\n",
    "        V_db[curr] = np.zeros((n[curr], 1))\n",
    "        S_db[curr] = np.zeros((n[curr], 1))\n",
    "    neural_network['W'] = W\n",
    "    neural_network['B'] = B\n",
    "    return A, Z, V_dw, S_dw, V_db, S_db\n",
    " \n",
    "# Forward Propagation through all the layers of the neural network:\n",
    "def forward_propagation(neural_network, A, Z):\n",
    "    L = neural_network['L']\n",
    "    activation_fn = neural_network['activation_fn']\n",
    "    W = neural_network['W']\n",
    "    B = neural_network['B']\n",
    "\n",
    "    for curr in range(1, L + 1):\n",
    "        Z[curr] = W[curr] @ A[curr - 1] + B[curr]\n",
    "        A[curr] = activation_fn[curr](Z[curr])\n",
    "\n",
    "        \n",
    "# Backward Propagation through all the layers of the neural network:\n",
    "def backward_propagation(neural_network, X, Y, A, Z, lambd):\n",
    "    L = neural_network['L']\n",
    "    activation_fn = neural_network['activation_fn']\n",
    "    d_activation_fn = neural_network['d_activation_fn']\n",
    "    W = neural_network['W']\n",
    "    B = neural_network['B']\n",
    "    n = neural_network['n']\n",
    "    m = X.shape[1]\n",
    "    dW = {}\n",
    "    dB = {}\n",
    "    for curr in range(L, 0, -1):\n",
    "        if curr == L:\n",
    "            dZ = ((A[L] - Y)/(A[L]*(1-A[L]))) * d_activation_fn[curr](Z[curr])\n",
    "        else:\n",
    "            dZ = (W[curr + 1].T @ dZ) * d_activation_fn[curr](Z[curr])\n",
    "\n",
    "        dB[curr] = np.sum(dZ, axis = 1, keepdims = True)/X.shape[1] + lambd/m * B[curr]\n",
    "        dW[curr] = dZ @ A[curr - 1].T / m + lambd/m * W[curr]\n",
    "\n",
    "    return dW, dB\n",
    "    \n",
    "def update_parameters(neural_network, uW, uB, alpha):\n",
    "    L = neural_network['L']\n",
    "    W = neural_network['W']\n",
    "    B = neural_network['B']\n",
    "    for curr in range(1, L + 1):\n",
    "        B[curr] -= alpha * uB[curr]\n",
    "        W[curr] -= alpha * uW[curr]\n",
    "    neural_network['W'] = W\n",
    "    neural_network['B'] = B\n",
    "\n",
    "def adam_optimization(neural_network, V_dw, S_dw, V_db, S_db, dW, dB, beta1, beta2, epsilon):\n",
    "    L = neural_network['L']\n",
    "    uW = {}\n",
    "    uB = {}\n",
    "    for curr in range(1, L + 1):\n",
    "        V_dw[curr] = (beta1 * V_dw[curr] + (1 - beta1) * dW[curr])\n",
    "        S_dw[curr] = (beta2 * S_dw[curr] + (1 - beta2) * np.square(dW[curr]))\n",
    "        uW[curr] = V_dw[curr]/(np.sqrt(S_dw[curr]) + epsilon)\n",
    "        \n",
    "        V_db[curr] = (beta1 * V_db[curr] + (1 - beta1) * dB[curr])\n",
    "        S_db[curr] = (beta2 * S_db[curr] + (1 - beta2) * np.square(dB[curr]))\n",
    "        uB[curr] = V_db[curr]/(np.sqrt(S_db[curr]) + epsilon)\n",
    "        \n",
    "#         assert np.array_equal(uW[curr], dW[curr])\n",
    "#         assert np.array_equal(uB[curr], dB[curr])\n",
    "    return uW, uB\n",
    "    \n",
    "# Assigns the class of the prediction from its sigma value:\n",
    "def predict_class(y):\n",
    "    if y < 0.5:\n",
    "        return 0\n",
    "    else:\n",
    "        return 1\n",
    "# Vectorize the function so that it works on the whole numpy array\n",
    "predict_class = np.vectorize(predict_class)\n",
    "\n",
    "# Predict the output given the test values:\n",
    "def predict(neural_network, X):\n",
    "    X = X.T\n",
    "    L = neural_network['L']\n",
    "    W = neural_network['W']\n",
    "    B = neural_network['B']\n",
    "    activation_fn = neural_network['activation_fn']\n",
    "\n",
    "    for curr in range(1, L + 1):\n",
    "        Z = W[curr] @ X + B[curr]\n",
    "        X = activation_fn[curr](Z)\n",
    "    \n",
    "    return predict_class(X).T\n",
    "\n",
    "# Compare predictions to actual and find accuracy score:\n",
    "def accuracy_score(A, Y):\n",
    "    A = predict_class(A)\n",
    "    return (A.T @ Y + (1 - A).T @ (1 - Y))[0][0]/Y.shape[0]\n",
    "\n",
    "# Trains the network on the training set \n",
    "# neural_network = {'L': L, 'n': n, 'W': None, 'B': None, 'activation_fn': activation_fn, 'd_activation_fn': d_activation_fn}\n",
    "\n",
    "def fit(neural_network, X, Y, X_test, Y_test, epoch = 1000, alpha = 0.01, lambd = 0, beta1 = 0.9, beta2 = 0.999, epsilon = 10**(-8), Verbose = False):\n",
    "    X = X.T\n",
    "    Y = Y.T\n",
    "    \n",
    "    assert len(n) == L + 1\n",
    "    assert len(activation_fn) == L\n",
    "    assert len(d_activation_fn) == L\n",
    "    assert n[0] == X.shape[0]\n",
    "    assert n[L] == Y.shape[0]\n",
    "    \n",
    "    A, Z, V_dw, S_dw, V_db, S_db = init_layers(neural_network, X)\n",
    "\n",
    "    cost = []\n",
    "    accuracy = []\n",
    "    accuracy2 = []\n",
    "    for i in range(epoch):\n",
    "        if i %1000 == 0:\n",
    "            print(i)\n",
    "        forward_propagation(neural_network, A, Z)\n",
    "        dW, dB = backward_propagation(neural_network, X, Y, A, Z, lambd)\n",
    "        uW, uB = adam_optimization(neural_network, V_dw, S_dw, V_db, S_db, dW, dB, beta1, beta2, epsilon)\n",
    "#         uW = dW\n",
    "#         uB = dB\n",
    "        update_parameters(neural_network, uW, uB, alpha)\n",
    "        \n",
    "        cost.append(J(neural_network, A[L], Y, lambd))\n",
    "        accuracy.append(accuracy_score(A[L].T, Y.T))\n",
    "        \n",
    "        Y_predicted = predict(neural_network, X_test)\n",
    "        testing_accuracy = accuracy_score(Y_predicted, Y_test)\n",
    "        accuracy2.append(testing_accuracy)\n",
    "\n",
    "    if Verbose:\n",
    "        plt.title('Cost Function')\n",
    "        plt.plot(cost)\n",
    "        plt.show()\n",
    "\n",
    "        plt.title('Training Accuracy and Testing Accuracy')\n",
    "        plt.plot(accuracy)\n",
    "        plt.plot(accuracy2)\n",
    "        plt.show()\n",
    "\n",
    "    return accuracy[-1]\n",
    "\n",
    "\n",
    "\n"
   ]
  },
  {
   "cell_type": "markdown",
   "metadata": {},
   "source": [
    "**Helper functions to load the datasets:**"
   ]
  },
  {
   "cell_type": "code",
   "execution_count": 3,
   "metadata": {
    "colab": {},
    "colab_type": "code",
    "id": "vy0FQVcAYUbD"
   },
   "outputs": [],
   "source": [
    "def get_training_testing_data(train, test):\n",
    "    # Loading the data files\n",
    "    train_file = h5py.File(train, 'r')\n",
    "    test_file = h5py.File(test, 'r')\n",
    "    \n",
    "    # Extracting the arrays from File object\n",
    "    x_train = train_file['train_set_x'].value\n",
    "    y_train = train_file['train_set_y'].value\n",
    "    x_test = test_file['test_set_x'].value\n",
    "    y_test = test_file['test_set_y'].value\n",
    "\n",
    "    train_file.close()\n",
    "    test_file.close()\n",
    "    \n",
    "    # Checking the dimensions and format of the data\n",
    "    print('x_train.shape:', x_train.shape)\n",
    "    print('y_train.shape:', y_train.shape)\n",
    "    print('x_test.shape:', x_test.shape)\n",
    "    print('y_test.shape:', y_test.shape)\n",
    "    plt.imshow(x_train[0])\n",
    "        \n",
    "    # reshaping to convert X an Y to 2D array\n",
    "    x_train = x_train.reshape(x_train.shape[0], x_train.shape[1] * x_train.shape[2] * x_train.shape[3])\n",
    "    y_train = y_train.reshape(y_train.shape[0], 1)\n",
    "    x_test = x_test.reshape(x_test.shape[0], x_test.shape[1] * x_test.shape[2] * x_test.shape[3])\n",
    "    y_test = y_test.reshape(y_test.shape[0], 1)\n",
    "\n",
    "    print('reshaped - ')\n",
    "    print('x_train.shape:', x_train.shape)\n",
    "    print('y_train.shape:', y_train.shape)\n",
    "    print('x_test.shape:', x_test.shape)\n",
    "    print('y_test.shape:', y_test.shape)\n",
    "    \n",
    "    # Normalising the values to floats between 0 to 1\n",
    "    x_train = x_train/255\n",
    "    x_test = x_test/255\n",
    "    \n",
    "    # Getting the values of m_train, m_test, and n\n",
    "    m_train = x_train.shape[1]\n",
    "    m_test = x_test.shape[1]\n",
    "    n = x_train.shape[0]\n",
    "    \n",
    "    # Returning all the data extracted\n",
    "    return x_train, y_train, x_test, y_test\n",
    "    \n",
    "    "
   ]
  },
  {
   "cell_type": "code",
   "execution_count": 4,
   "metadata": {},
   "outputs": [
    {
     "name": "stderr",
     "output_type": "stream",
     "text": [
      "/opt/conda/lib/python3.6/site-packages/h5py/_hl/dataset.py:313: H5pyDeprecationWarning: dataset.value has been deprecated. Use dataset[()] instead.\n",
      "  \"Use dataset[()] instead.\", H5pyDeprecationWarning)\n"
     ]
    },
    {
     "name": "stdout",
     "output_type": "stream",
     "text": [
      "x_train.shape: (209, 64, 64, 3)\n",
      "y_train.shape: (209,)\n",
      "x_test.shape: (50, 64, 64, 3)\n",
      "y_test.shape: (50,)\n",
      "reshaped - \n",
      "x_train.shape: (209, 12288)\n",
      "y_train.shape: (209, 1)\n",
      "x_test.shape: (50, 12288)\n",
      "y_test.shape: (50, 1)\n",
      "(209, 12288)\n",
      "(209, 1)\n",
      "training sample: [0.06666667 0.12156863 0.21960784 ... 0.         0.         0.        ] [0]\n",
      "testing sample:  [0.61960784 0.40784314 0.3254902  ... 0.67843137 0.50196078 0.43137255] [1]\n"
     ]
    },
    {
     "data": {
      "image/png": "[encoded data removed]",
      "text/plain": [
       "<Figure size 432x288 with 1 Axes>"
      ]
     },
     "metadata": {},
     "output_type": "display_data"
    }
   ],
   "source": [
    "# Creating or Loading the Data:\n",
    "X, Y, X_test, Y_test =  get_training_testing_data('../input/train_catvnoncat.h5', '../input/test_catvnoncat.h5')\n",
    "\n",
    "# Viewing the data\n",
    "# plt.scatter(X[:, 0], X[:, 1], c = Y.reshape(Y.shape[0],).tolist(), cmap=plt.cm.Spectral);\n",
    "# plt.show()\n",
    "print(X.shape)\n",
    "print(Y.shape)\n",
    "\n",
    "# Sanity Check:\n",
    "print('training sample:', X[0], Y[0])\n",
    "print('testing sample: ',X_test[0], Y_test[0])"
   ]
  },
  {
   "cell_type": "markdown",
   "metadata": {},
   "source": [
    "**Creating the neural network and training it:**"
   ]
  },
  {
   "cell_type": "code",
   "execution_count": 5,
   "metadata": {},
   "outputs": [
    {
     "name": "stdout",
     "output_type": "stream",
     "text": [
      "0\n",
      "1000\n",
      "2000\n",
      "3000\n"
     ]
    },
    {
     "data": {
      "image/png": "[encoded data removed]",
      "text/plain": [
       "<Figure size 432x288 with 1 Axes>"
      ]
     },
     "metadata": {},
     "output_type": "display_data"
    },
    {
     "data": {
      "image/png": "[encoded data removed]",
      "text/plain": [
       "<Figure size 432x288 with 1 Axes>"
      ]
     },
     "metadata": {},
     "output_type": "display_data"
    },
    {
     "name": "stdout",
     "output_type": "stream",
     "text": [
      "training_accuracy: 1.0\n",
      "testing_accuracy:  0.84\n"
     ]
    }
   ],
   "source": [
    "\n",
    "# Defining the dimensions of the neural network and constants of gradient descent\n",
    "L = 4\n",
    "n = {0: X.shape[1], 1: 20, 2: 7, 3: 5, 4: Y.shape[1]}\n",
    "activation_fn = {1: relu, 2: relu, 3: relu, 4: sigmoid}\n",
    "d_activation_fn = {1: d_relu, 2: d_relu, 3: d_relu, 4: d_sigmoid }\n",
    "alpha = 0.01\n",
    "\n",
    "# (Without using Adam)\n",
    "lambd = 0\n",
    "beta1 = 0\n",
    "beta2 = 1\n",
    "epsilon = 10**(0)\n",
    "epoch = 4000\n",
    "\n",
    "# Creating the neural network\n",
    "neural_network = {'L': L, 'n': n, 'W': None, 'B': None, 'activation_fn': activation_fn, 'd_activation_fn': d_activation_fn}\n",
    "\n",
    "# Training the network:\n",
    "training_accuracy = fit(neural_network, X, Y, X_test, Y_test, epoch, alpha, lambd, beta1, beta2, epsilon, Verbose = True)\n",
    "print('training_accuracy:', training_accuracy)\n",
    "\n",
    "# Testing the network on Testing Data\n",
    "Y_predicted = predict(neural_network, X_test)\n",
    "testing_accuracy = accuracy_score(Y_predicted, Y_test)\n",
    "print('testing_accuracy: ',testing_accuracy)"
   ]
  },
  {
   "cell_type": "markdown",
   "metadata": {},
   "source": [
    "* **Only with Momentum (by setting beta2 = 1 and epsilon = 1):**"
   ]
  },
  {
   "cell_type": "code",
   "execution_count": 6,
   "metadata": {},
   "outputs": [
    {
     "name": "stdout",
     "output_type": "stream",
     "text": [
      "0\n",
      "1000\n",
      "2000\n"
     ]
    },
    {
     "data": {
      "image/png": "[encoded data removed]",
      "text/plain": [
       "<Figure size 432x288 with 1 Axes>"
      ]
     },
     "metadata": {},
     "output_type": "display_data"
    },
    {
     "data": {
      "image/png": "[encoded data removed]",
      "text/plain": [
       "<Figure size 432x288 with 1 Axes>"
      ]
     },
     "metadata": {},
     "output_type": "display_data"
    },
    {
     "name": "stdout",
     "output_type": "stream",
     "text": [
      "training_accuracy: 0.9473684210526315\n",
      "testing_accuracy:  0.64\n"
     ]
    }
   ],
   "source": [
    "\n",
    "# Defining the dimensions of the neural network and constants of gradient descent\n",
    "L = 4\n",
    "n = {0: X.shape[1], 1: 20, 2: 7, 3: 5, 4: Y.shape[1]}\n",
    "activation_fn = {1: relu, 2: relu, 3: relu, 4: sigmoid}\n",
    "d_activation_fn = {1: d_relu, 2: d_relu, 3: d_relu, 4: d_sigmoid }\n",
    "alpha = 0.015\n",
    "lambd = 1\n",
    "beta1 = 0.9\n",
    "beta2 = 1\n",
    "epsilon = 10**(0)\n",
    "epoch = 3000\n",
    "\n",
    "# Creating the neural network\n",
    "neural_network = {'L': L, 'n': n, 'W': None, 'B': None, 'activation_fn': activation_fn, 'd_activation_fn': d_activation_fn}\n",
    "\n",
    "# Training the network:\n",
    "training_accuracy = fit(neural_network, X, Y, X_test, Y_test, epoch, alpha, lambd, beta1, beta2, epsilon, Verbose = True)\n",
    "print('training_accuracy:', training_accuracy)\n",
    "\n",
    "# Testing the network on Testing Data\n",
    "Y_predicted = predict(neural_network, X_test)\n",
    "testing_accuracy = accuracy_score(Y_predicted, Y_test)\n",
    "print('testing_accuracy: ',testing_accuracy)"
   ]
  },
  {
   "cell_type": "markdown",
   "metadata": {},
   "source": [
    "**Only with RMS Propagation (by setting beta1 = 0):**"
   ]
  },
  {
   "cell_type": "markdown",
   "metadata": {},
   "source": [
    "**Using Adam Optimization Algorithm:**"
   ]
  }
 ],
 "metadata": {
  "colab": {
   "collapsed_sections": [],
   "name": "NeuralNetwork.ipynb",
   "provenance": [],
   "version": "0.3.2"
  },
  "kernelspec": {
   "display_name": "Python 3",
   "name": "python3"
  }
 },
 "nbformat": 4,
 "nbformat_minor": 1
}
